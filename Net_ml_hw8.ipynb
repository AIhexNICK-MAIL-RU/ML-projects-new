{
  "nbformat": 4,
  "nbformat_minor": 0,
  "metadata": {
    "colab": {
      "provenance": [],
      "authorship_tag": "ABX9TyNKrXLMr1Pya2gj8oKbqK2z",
      "include_colab_link": true
    },
    "kernelspec": {
      "name": "python3",
      "display_name": "Python 3"
    },
    "language_info": {
      "name": "python"
    }
  },
  "cells": [
    {
      "cell_type": "markdown",
      "metadata": {
        "id": "view-in-github",
        "colab_type": "text"
      },
      "source": [
        "<a href=\"https://colab.research.google.com/github/AIhexNICK-MAIL-RU/ML-projects-new/blob/main/Net_ml_hw8.ipynb\" target=\"_parent\"><img src=\"https://colab.research.google.com/assets/colab-badge.svg\" alt=\"Open In Colab\"/></a>"
      ]
    },
    {
      "cell_type": "markdown",
      "source": [
        "# Задание\n",
        "\n",
        "## Цель: применить на практике базовые ансамблевые методы\n",
        "Описание задания:\n",
        "В домашнем задании нужно решить задачу классификации наличия болезни сердца у пациентов. Данные для обучения моделей необходимо загрузить самостоятельно с сайта. Целевая переменная – наличие болезни сердца (HeartDisease), принимает значения 0 или 1 в зависимости от отсутствия или наличия болезни соответственно. (Подробнее о признаках можно прочесть в описании датасета на сайте. Для выполнения работы не обязательно вникать в медицинские показатели.)"
      ],
      "metadata": {
        "id": "UMDT_Z8JKLYE"
      }
    },
    {
      "cell_type": "markdown",
      "source": [
        "# Этапы работы:"
      ],
      "metadata": {
        "id": "JE3GuuMoKVWR"
      }
    },
    {
      "cell_type": "markdown",
      "source": [
        "# 1 Получите данные и загрузите их в рабочую среду. (Jupyter Notebook или другую)"
      ],
      "metadata": {
        "id": "ym7r8PcoKXt-"
      }
    },
    {
      "cell_type": "code",
      "source": [],
      "metadata": {
        "id": "aMh0dDmuLQBi"
      },
      "execution_count": null,
      "outputs": []
    },
    {
      "cell_type": "markdown",
      "source": [
        "# 2 Подготовьте датасет к обучению моделей."
      ],
      "metadata": {
        "id": "c-GAiKD0KoEM"
      }
    },
    {
      "cell_type": "code",
      "source": [],
      "metadata": {
        "id": "dJj-L_unLQas"
      },
      "execution_count": null,
      "outputs": []
    },
    {
      "cell_type": "markdown",
      "source": [
        "## a) Категориальные переменные переведите в цифровые значения. Можно использовать pd.get_dummies, preprocessing.LabelEncoder. Старайтесь не использовать для этой задачи циклы."
      ],
      "metadata": {
        "id": "bjkfukBaKsOX"
      }
    },
    {
      "cell_type": "code",
      "source": [],
      "metadata": {
        "id": "JnNhy0rJLRRT"
      },
      "execution_count": null,
      "outputs": []
    },
    {
      "cell_type": "markdown",
      "source": [
        "## b) *Постройте 1-2 графика на выбор. Визуализация должна быть основана на исследуемых данных и быть полезной (из графика можно сделать вывод об особенностях датасета/класса/признака)."
      ],
      "metadata": {
        "id": "kpCnuYC5KtI0"
      }
    },
    {
      "cell_type": "code",
      "source": [],
      "metadata": {
        "id": "amR_-pEwLRom"
      },
      "execution_count": null,
      "outputs": []
    },
    {
      "cell_type": "markdown",
      "source": [
        "# 3 Разделите выборку на обучающее и тестовое подмножество. 80% данных оставить на обучающее множество, 20% на тестовое."
      ],
      "metadata": {
        "id": "ot-56PqvKv1B"
      }
    },
    {
      "cell_type": "code",
      "source": [],
      "metadata": {
        "id": "1IuAsyf6LR7Q"
      },
      "execution_count": null,
      "outputs": []
    },
    {
      "cell_type": "markdown",
      "source": [
        "# 4 Обучите дерево решений на обучающем множестве. Используйте следующие модели:"
      ],
      "metadata": {
        "id": "cE5TWra_KyOQ"
      }
    },
    {
      "cell_type": "code",
      "source": [],
      "metadata": {
        "id": "7VFu_76jLSlZ"
      },
      "execution_count": null,
      "outputs": []
    },
    {
      "cell_type": "markdown",
      "source": [
        "## a) tree.DecisionTreeClassifier"
      ],
      "metadata": {
        "id": "OvZ2e25GK00Q"
      }
    },
    {
      "cell_type": "code",
      "source": [],
      "metadata": {
        "id": "1I4GZlICLTMS"
      },
      "execution_count": null,
      "outputs": []
    },
    {
      "cell_type": "code",
      "source": [],
      "metadata": {
        "id": "FGVFLj77LTDQ"
      },
      "execution_count": null,
      "outputs": []
    },
    {
      "cell_type": "markdown",
      "source": [
        "## b) ensemble.RandomForestClassifier"
      ],
      "metadata": {
        "id": "1eppPdFUK27A"
      }
    },
    {
      "cell_type": "code",
      "source": [],
      "metadata": {
        "id": "U0vy5PiZLT7y"
      },
      "execution_count": null,
      "outputs": []
    },
    {
      "cell_type": "markdown",
      "source": [
        "# 5 Для тестового множества сделайте предсказание целевой переменной. Выведите метрики для каждой построенной модели с помощью metrics.classification_report."
      ],
      "metadata": {
        "id": "v9IeUByYK7lK"
      }
    },
    {
      "cell_type": "code",
      "source": [],
      "metadata": {
        "id": "pjuMTLsaLUgD"
      },
      "execution_count": null,
      "outputs": []
    },
    {
      "cell_type": "markdown",
      "source": [
        "# 6 Выведите важность признаков, полученную после обучения модели из п. 4b в виде столбчатой диаграммы. Отсортируйте важность по убыванию."
      ],
      "metadata": {
        "id": "LA56VcioK-pO"
      }
    },
    {
      "cell_type": "code",
      "source": [],
      "metadata": {
        "id": "27YGr9LdLU2r"
      },
      "execution_count": null,
      "outputs": []
    },
    {
      "cell_type": "markdown",
      "source": [
        "# 7 Обучите бэггинг над моделью из п. 4a. Используйте ensemble.BaggingClassifier."
      ],
      "metadata": {
        "id": "VMwTiDdAK_db"
      }
    },
    {
      "cell_type": "code",
      "source": [],
      "metadata": {
        "id": "vcapVkaaLVdr"
      },
      "execution_count": null,
      "outputs": []
    },
    {
      "cell_type": "markdown",
      "source": [
        "## a) Повторите п. 5"
      ],
      "metadata": {
        "id": "bL-dlNSxLBzc"
      }
    },
    {
      "cell_type": "code",
      "source": [],
      "metadata": {
        "id": "aTJrlwkwLWAQ"
      },
      "execution_count": null,
      "outputs": []
    },
    {
      "cell_type": "code",
      "source": [],
      "metadata": {
        "id": "gW3NSr6xLVwP"
      },
      "execution_count": null,
      "outputs": []
    },
    {
      "cell_type": "markdown",
      "source": [
        "# 8 Обучите стекинг трех моделей: из п. 4a, п. 4b и svm.LinearSVC. Используйте ensemble.StackingClassifier."
      ],
      "metadata": {
        "id": "BwPPwNtTLDvJ"
      }
    },
    {
      "cell_type": "code",
      "source": [],
      "metadata": {
        "id": "ZRZeIYYILW0r"
      },
      "execution_count": null,
      "outputs": []
    },
    {
      "cell_type": "markdown",
      "source": [
        "## a) Повторите п. 5"
      ],
      "metadata": {
        "id": "RUkYp4pQLHI-"
      }
    },
    {
      "cell_type": "code",
      "source": [],
      "metadata": {
        "id": "VMTpBBBjLXNo"
      },
      "execution_count": null,
      "outputs": []
    },
    {
      "cell_type": "markdown",
      "source": [
        "# 9 Сформулируйте выводы по проделанной работе."
      ],
      "metadata": {
        "id": "kxHJv9dBLH7g"
      }
    },
    {
      "cell_type": "code",
      "source": [],
      "metadata": {
        "id": "XSZrIuFZLZ0u"
      },
      "execution_count": null,
      "outputs": []
    },
    {
      "cell_type": "markdown",
      "source": [
        "## a) Сравните метрики построенных моделей."
      ],
      "metadata": {
        "id": "FIZUU20zLMhK"
      }
    },
    {
      "cell_type": "code",
      "source": [],
      "metadata": {
        "id": "UkN5kduPLYfP"
      },
      "execution_count": null,
      "outputs": []
    },
    {
      "cell_type": "markdown",
      "source": [
        "## b) Напишите свое мнение, какая модель наилучшая и почему.\n",
        "\n"
      ],
      "metadata": {
        "id": "EEIuTVC2IvWA"
      }
    },
    {
      "cell_type": "code",
      "source": [],
      "metadata": {
        "id": "4DoQa7ZaLZTp"
      },
      "execution_count": null,
      "outputs": []
    }
  ]
}